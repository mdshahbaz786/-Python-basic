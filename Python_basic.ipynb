{
  "nbformat": 4,
  "nbformat_minor": 0,
  "metadata": {
    "colab": {
      "provenance": []
    },
    "kernelspec": {
      "name": "python3",
      "display_name": "Python 3"
    },
    "language_info": {
      "name": "python"
    }
  },
  "cells": [
    {
      "cell_type": "code",
      "execution_count": null,
      "metadata": {
        "id": "PO3TLKRazUJK"
      },
      "outputs": [],
      "source": []
    },
    {
      "cell_type": "markdown",
      "source": [
        "# Functions\n",
        "\n"
      ],
      "metadata": {
        "id": "-fCWoafnzj5V"
      }
    },
    {
      "cell_type": "markdown",
      "source": [
        "1. What is Python, and why is it popular?\n",
        "    - Python is a high-level, interpreted, and object-oriented programming language. It is popular because it’s easy to learn, has simple syntax, large community support, and a huge collection of libraries for AI, web development, data science, and more.\n",
        "2. What is an interpreter in Python?\n",
        "   - An interpreter translates Python code into machine-readable instructions line by line at runtime.\n",
        "3. What are pre-defined keywords in Python?\n",
        "   - Keywords are reserved words that have special meaning in Python (e.g., if, else, while, for, class, def, True, False).\n",
        "4. Can keywords be used as variable names?\n",
        "   - No. Keywords cannot be used as variable names because they are reserved by the language.\n",
        "5. What is mutability in Python?\n",
        "   - Mutability refers to whether an object’s content can be changed. Example: Lists are mutable; Tuples are immutable.\n",
        "6. Why are lists mutable, but tuples are immutable ?\n",
        "  - Lists allow modifications (adding/removing   elements), while tuples are fixed and cannot be altered after creation.\n",
        "7.  What is the difference between “==” and “is” operators in Python?\n",
        "    - == checks value equality (whether two objects have the same value).\n",
        "\n",
        "    - is checks identity (whether two variables point to the same memory location).\n",
        "\n",
        "8. What are logical operators in Python?\n",
        "   - and → returns True if both conditions are true.\n",
        "\n",
        "   - OR → returns True if at least one condition is true.\n",
        "\n",
        "   - Not → reverses the boolean value\n",
        "9. What is type casting in Python ?\n",
        "   - Converting one data type into another (e.g., int(\"5\") → 5).\n",
        "10. What is the difference between implicit and explicit type casting?\n",
        "    - Implicit casting (Type conversion by Python automatically, e.g., 3 + 2.5 → 5.5).\n",
        "\n",
        "    - Explicit casting (Manually converting, e.g., int(\"10\") → 10).\n",
        "11. What is the purpose of conditional statements in Python?\n",
        "    - To control the flow of execution based on conditions (e.g., if, elif, else).\n",
        "12. How does the elif statement work?\n",
        "    - elif allows multiple conditions to be checked after if. It executes the first block that evaluates to True.\n",
        "13. What is the difference between for and while loops?\n",
        "    - for loop → used when the number of iterations is known.\n",
        "\n",
        "    - while loop → used when iterations depend on a condition being True\n",
        "14. Describe a scenario where a while loop is more suitable than a for loop?\n",
        "    - Reading input until the user enters \"exit\". Here, we don’t know the exact number of iterations in advance, so while loop is better."
      ],
      "metadata": {
        "id": "8MWJTxP-zxjW"
      }
    },
    {
      "cell_type": "code",
      "source": [
        "# Write a Python program to print \"Hello, World!\"\n",
        "print(\"Hello, World!\")\n"
      ],
      "metadata": {
        "colab": {
          "base_uri": "https://localhost:8080/"
        },
        "id": "c4w3pf35-uQY",
        "outputId": "0dbdf706-4eb9-43f5-af0f-a9f6747c946d"
      },
      "execution_count": 1,
      "outputs": [
        {
          "output_type": "stream",
          "name": "stdout",
          "text": [
            "Hello, World!\n"
          ]
        }
      ]
    },
    {
      "cell_type": "code",
      "source": [
        "# Write a Python program that displays your name and age.\n",
        "\n",
        "name = \"Shahbaz\"\n",
        "age = 21\n",
        "print(\"Name:\", name, \"Age:\", age)"
      ],
      "metadata": {
        "colab": {
          "base_uri": "https://localhost:8080/"
        },
        "id": "etoWBuyA--4E",
        "outputId": "5bf31015-8ebc-44a1-f8af-a8ae369eea02"
      },
      "execution_count": 2,
      "outputs": [
        {
          "output_type": "stream",
          "name": "stdout",
          "text": [
            "Name: Shahbaz Age: 21\n"
          ]
        }
      ]
    },
    {
      "cell_type": "code",
      "source": [
        "# Write code to print all the pre-defined keywords in Python using the keyword library.\n",
        "\n",
        "import keyword\n",
        "\n",
        "# Print list of all Python keywords\n",
        "print(\"Python Keywords are:\\n\")\n",
        "print(keyword.kwlist)\n",
        "\n",
        "# Print total number of keywords\n",
        "print(\"\\nTotal number of keywords:\", len(keyword.kwlist))\n"
      ],
      "metadata": {
        "colab": {
          "base_uri": "https://localhost:8080/"
        },
        "id": "AJd0cTxH--t8",
        "outputId": "3c849967-c421-4dc5-e3da-abde993f5a27"
      },
      "execution_count": 3,
      "outputs": [
        {
          "output_type": "stream",
          "name": "stdout",
          "text": [
            "Python Keywords are:\n",
            "\n",
            "['False', 'None', 'True', 'and', 'as', 'assert', 'async', 'await', 'break', 'class', 'continue', 'def', 'del', 'elif', 'else', 'except', 'finally', 'for', 'from', 'global', 'if', 'import', 'in', 'is', 'lambda', 'nonlocal', 'not', 'or', 'pass', 'raise', 'return', 'try', 'while', 'with', 'yield']\n",
            "\n",
            "Total number of keywords: 35\n"
          ]
        }
      ]
    },
    {
      "cell_type": "code",
      "source": [
        "# Write a program that checks if a given word is a Python keyword.\n",
        "\n",
        "word = \"while\"\n",
        "print(keyword.iskeyword(word))"
      ],
      "metadata": {
        "colab": {
          "base_uri": "https://localhost:8080/"
        },
        "id": "_D7Q1GEu--kM",
        "outputId": "7db493cc-7659-47bd-c61a-86e06ffde9af"
      },
      "execution_count": 4,
      "outputs": [
        {
          "output_type": "stream",
          "name": "stdout",
          "text": [
            "True\n"
          ]
        }
      ]
    },
    {
      "cell_type": "code",
      "source": [
        "#  Create a list and tuple in Python, and demonstrate how attempting to change an element works differently for each.\n",
        "\n",
        "my_list = [1, 2, 3]\n",
        "my_tuple = (1, 2, 3)\n",
        "my_list[0] = 10\n",
        "# my_tuple[0] = 10\n",
        "print(\"List:\", my_list)\n",
        "print(\"Tuple:\", my_tuple)\n"
      ],
      "metadata": {
        "colab": {
          "base_uri": "https://localhost:8080/"
        },
        "id": "RJKfRh0C--aO",
        "outputId": "652ffe4f-5d24-46b1-b10c-94a078e30b78"
      },
      "execution_count": 11,
      "outputs": [
        {
          "output_type": "stream",
          "name": "stdout",
          "text": [
            "List: [10, 2, 3]\n",
            "Tuple: (1, 2, 3)\n"
          ]
        }
      ]
    },
    {
      "cell_type": "code",
      "source": [
        "#  Write a function to demonstrate the behavior of mutable and immutable arguments.\n",
        "\n",
        "def modify_list(l):\n",
        "    l.append(100)   # modifies original\n",
        "def modify_int(x):\n",
        "    x += 10         # doesn’t change original\n",
        "lst = [1, 2, 3]\n",
        "num = 5\n",
        "modify_list(lst)\n",
        "modify_int(num)\n",
        "print(\"List after function:\", lst)\n",
        "print(\"Integer after function:\", num)"
      ],
      "metadata": {
        "colab": {
          "base_uri": "https://localhost:8080/"
        },
        "id": "z178h-O0--Gk",
        "outputId": "c72e95be-ce00-45e3-951c-0c60732407e9"
      },
      "execution_count": 12,
      "outputs": [
        {
          "output_type": "stream",
          "name": "stdout",
          "text": [
            "List after function: [1, 2, 3, 100]\n",
            "Integer after function: 5\n"
          ]
        }
      ]
    },
    {
      "cell_type": "code",
      "source": [
        "#  Write a program that performs basic arithmetic operations on two user-input numbers.\n",
        "\n",
        "a = int(input(\"Enter first number: \"))\n",
        "b = int(input(\"Enter second number: \"))\n",
        "print(\"Sum:\", a + b)\n",
        "print(\"Difference:\", a - b)\n",
        "print(\"Product:\", a * b)\n",
        "print(\"Division:\", a / b)"
      ],
      "metadata": {
        "colab": {
          "base_uri": "https://localhost:8080/"
        },
        "id": "PAj1_JWmAf1d",
        "outputId": "0b6d62d1-3a63-447a-ea5e-395d00a97417"
      },
      "execution_count": 13,
      "outputs": [
        {
          "output_type": "stream",
          "name": "stdout",
          "text": [
            "Enter first number: 88\n",
            "Enter second number: 5\n",
            "Sum: 93\n",
            "Difference: 83\n",
            "Product: 440\n",
            "Division: 17.6\n"
          ]
        }
      ]
    },
    {
      "cell_type": "code",
      "source": [
        "# Write a program to demonstrate the use of logical operators.\n",
        "\n",
        "x, y = True, False\n",
        "print(x and y, x or y, not x)"
      ],
      "metadata": {
        "colab": {
          "base_uri": "https://localhost:8080/"
        },
        "id": "qE_S2ut-Afs1",
        "outputId": "91896487-f4be-483f-b2e8-92842c21fda7"
      },
      "execution_count": 14,
      "outputs": [
        {
          "output_type": "stream",
          "name": "stdout",
          "text": [
            "False True False\n"
          ]
        }
      ]
    },
    {
      "cell_type": "code",
      "source": [
        "# Write a Python program to convert user input from string to integer, float, and boolean types.\n",
        "\n",
        "s = input(\"Enter a number: \")\n",
        "print(\"As int:\", int(s))\n",
        "print(\"As float:\", float(s))\n",
        "print(\"As bool:\", bool(s))"
      ],
      "metadata": {
        "colab": {
          "base_uri": "https://localhost:8080/"
        },
        "id": "LEKVcwvjBfNF",
        "outputId": "f110a58e-aff9-4ed1-be0d-d53c3b948fc3"
      },
      "execution_count": 15,
      "outputs": [
        {
          "output_type": "stream",
          "name": "stdout",
          "text": [
            "Enter a number: 88\n",
            "As int: 88\n",
            "As float: 88.0\n",
            "As bool: True\n"
          ]
        }
      ]
    },
    {
      "cell_type": "code",
      "source": [
        "# Write code to demonstrate type casting with list elements.\n",
        "\n",
        "lst = [\"10\", \"20\", \"30\"]\n",
        "lst_int = list(map(int, lst))\n",
        "print(lst_int)"
      ],
      "metadata": {
        "colab": {
          "base_uri": "https://localhost:8080/"
        },
        "id": "s6hr-s3eBe7l",
        "outputId": "e36b8dd6-0283-4c29-d4c5-c75980c3164b"
      },
      "execution_count": 16,
      "outputs": [
        {
          "output_type": "stream",
          "name": "stdout",
          "text": [
            "[10, 20, 30]\n"
          ]
        }
      ]
    },
    {
      "cell_type": "code",
      "source": [
        "# Write a program that checks if a number is positive, negative, or zero.\n",
        "\n",
        "n = int(input(\"Enter a number: \"))\n",
        "if n > 0:\n",
        "    print(\"Positive\")\n",
        "elif n < 0:\n",
        "    print(\"Negative\")\n",
        "else:\n",
        "    print(\"Zero\")"
      ],
      "metadata": {
        "colab": {
          "base_uri": "https://localhost:8080/"
        },
        "id": "pkFWNwPmBgAF",
        "outputId": "07bd6e98-242c-4706-dd75-2d6bc92a34ac"
      },
      "execution_count": 18,
      "outputs": [
        {
          "output_type": "stream",
          "name": "stdout",
          "text": [
            "Enter a number: 2\n",
            "Positive\n"
          ]
        }
      ]
    },
    {
      "cell_type": "code",
      "source": [
        "# Write a for loop to print numbers from 1 to 10.\n",
        "\n",
        "for i in range(1, 11):\n",
        "    print(i, end=\" \")"
      ],
      "metadata": {
        "colab": {
          "base_uri": "https://localhost:8080/"
        },
        "id": "sGYWisc8BezF",
        "outputId": "eaddef7a-287a-4794-975e-26e0360aaeab"
      },
      "execution_count": 19,
      "outputs": [
        {
          "output_type": "stream",
          "name": "stdout",
          "text": [
            "1 2 3 4 5 6 7 8 9 10 "
          ]
        }
      ]
    },
    {
      "cell_type": "code",
      "source": [
        "#  Write a Python program to find the sum of all even numbers between 1 and 50.\n",
        "\n",
        "total = 0\n",
        "for i in range(2, 51, 2):\n",
        "    total += i\n",
        "print(\"Sum of even numbers:\", total)"
      ],
      "metadata": {
        "colab": {
          "base_uri": "https://localhost:8080/"
        },
        "id": "ikoojOUDBet2",
        "outputId": "744e33c6-e9dc-4144-ed06-d6d6a2f2c81f"
      },
      "execution_count": 20,
      "outputs": [
        {
          "output_type": "stream",
          "name": "stdout",
          "text": [
            "Sum of even numbers: 650\n"
          ]
        }
      ]
    },
    {
      "cell_type": "code",
      "source": [
        "# Write a program to reverse a string using a while loop.\n",
        "\n",
        "s = \"shahbaz\"\n",
        "i = len(s) - 1\n",
        "rev = \"\"\n",
        "while i >= 0:\n",
        "    rev += s[i]\n",
        "    i -= 1\n",
        "print(\"Reversed:\", rev)"
      ],
      "metadata": {
        "colab": {
          "base_uri": "https://localhost:8080/"
        },
        "id": "zlxR3qP-B6ld",
        "outputId": "1a6835ef-6b79-40e0-952a-505adda8646d"
      },
      "execution_count": 22,
      "outputs": [
        {
          "output_type": "stream",
          "name": "stdout",
          "text": [
            "Reversed: zabhahs\n"
          ]
        }
      ]
    },
    {
      "cell_type": "code",
      "source": [
        "# Write a Python program to calculate the factorial of a number provided by the user using a while loop.\n",
        "\n",
        "n = int(input(\"Enter a number: \"))\n",
        "fact = 1\n",
        "while n > 0:\n",
        "    fact *= n\n",
        "    n -= 1\n",
        "print(\"Factorial:\", fact)"
      ],
      "metadata": {
        "colab": {
          "base_uri": "https://localhost:8080/"
        },
        "id": "dvpwcjV-CI6V",
        "outputId": "f5480161-7873-4d7a-92b2-d51c8c67c2fd"
      },
      "execution_count": 23,
      "outputs": [
        {
          "output_type": "stream",
          "name": "stdout",
          "text": [
            "Enter a number: 12\n",
            "Factorial: 479001600\n"
          ]
        }
      ]
    }
  ]
}